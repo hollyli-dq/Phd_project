{
 "cells": [
  {
   "cell_type": "code",
   "execution_count": 2,
   "metadata": {},
   "outputs": [
    {
     "data": {
      "text/plain": [
       "[0, 2, 4]"
      ]
     },
     "execution_count": 2,
     "metadata": {},
     "output_type": "execute_result"
    }
   ],
   "source": [
    "\n",
    "a=1\n",
    "M_a_dict = {\n",
    "1:[0,2,4],\n",
    "2:[1,2,3,4,5],\n",
    "3:[1,2,3,4,5]\n",
    "}\n",
    "\n",
    "Ma = M_a_dict.get(a, {}) \n",
    "\n",
    "Ma"
   ]
  }
 ],
 "metadata": {
  "kernelspec": {
   "display_name": "bayesian-partial-orders",
   "language": "python",
   "name": "python3"
  },
  "language_info": {
   "codemirror_mode": {
    "name": "ipython",
    "version": 3
   },
   "file_extension": ".py",
   "mimetype": "text/x-python",
   "name": "python",
   "nbconvert_exporter": "python",
   "pygments_lexer": "ipython3",
   "version": "3.9.20"
  }
 },
 "nbformat": 4,
 "nbformat_minor": 2
}
