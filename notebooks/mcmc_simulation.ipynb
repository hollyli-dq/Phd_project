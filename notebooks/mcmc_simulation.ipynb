{
 "cells": [
  {
   "cell_type": "markdown",
   "metadata": {},
   "source": [
    "# Introduction \n",
    "This notebook demonstrates the Metropolis-Hastings Markov Chain Monte Carlo (MH-MCMC) process applied to partial orders.\n",
    "\n",
    "a) Starting with a given partial order, we sample corresponding total orders.\n",
    "\n",
    "b) Using the sampled total orders from part (a), we infer the original partial order.\n",
    "\n",
    "For this analysis, we utilize several utility functions located in utils/po_fun.py and utils/po_fun_plot.py. Additionally, the MH-MCMC implementation is provided in the po_mcmc.py source code file.\n"
   ]
  },
  {
   "cell_type": "code",
   "execution_count": 1,
   "metadata": {},
   "outputs": [],
   "source": [
    "import sys\n",
    "# Add the path to the src directory to access utility modules and po_hm_mcmc.py\n",
    "sys.path.append('../src')  # Adjust the path if your directory structure is different\n",
    " # Adjust this path based on your directory structure\n",
    "# Import necessary libraries\n",
    "import numpy as np\n",
    "import networkx as nx\n",
    "import random\n",
    "import itertools\n",
    "import matplotlib.pyplot as plt\n",
    "import pygraphviz as pgv\n",
    "from typing import List, Dict, Any\n",
    "import seaborn as sns\n",
    "\n",
    "# Import utility classes from their respective modules\n",
    "from utils.po_fun import GenerationUtils,BasicUtils,StatisticalUtils\n",
    "from utils.po_fun_plot import PO_plot\n",
    "from po_hm_mcmc import mcmc_partial_order"
   ]
  },
  {
   "cell_type": "markdown",
   "metadata": {},
   "source": [
    "## a) Sampling Total Orders from a Given Partial Order\n",
    "\n",
    "### Generating a Partial Order\n",
    "We generate a partial order using the `generate_random_PO` function and provide the basic description of the PO.\n",
    "#### Comments on Generating Samples from a Given Partial Order:\n",
    "\n",
    "- **Setting the Parameter `N`:**\n",
    "  - The value of `N` should be chosen thoughtfully to ensure the quality of the MCMC sampling.\n",
    "  - **Example:** When `N` is set to 5, we generate 50 observations for the MCMC. Choosing a different value for `N` may result in missing relationships between nodes, potentially compromising the integrity of the partial order.\n",
    "  "
   ]
  },
  {
   "cell_type": "code",
   "execution_count": null,
   "metadata": {},
   "outputs": [],
   "source": [
    "n = 5 # We want 4 objects \n",
    "N= 50 # We want 6 observations\n",
    "random_PO = GenerationUtils.generate_random_PO(n)\n",
    "h = nx.to_numpy_array(random_PO, dtype=int)\n",
    "h_true=h.copy()\n",
    "PO_plot.visualize_partial_order(h, title='Generated Partial Order')\n",
    "print(f\"The targeted partial order h is : {h}\")\n",
    "\n",
    "# Describe the partial orders \n",
    "StatisticalUtils.description_partial_order(h)"
   ]
  },
  {
   "cell_type": "markdown",
   "metadata": {},
   "source": [
    "### Generating Total Orders from the Partial Order (PO)\n",
    "\n",
    "First, we need to obtain subsets from different accessors:\n",
    "\n",
    "- **Given a subset**, we sample a total order.\n",
    "- **In the end**, we provide statistics of the total orders.\n"
   ]
  },
  {
   "cell_type": "code",
   "execution_count": null,
   "metadata": {},
   "outputs": [],
   "source": [
    "subsets = GenerationUtils.generate_subsets(N, n)\n",
    "total_orders = []\n",
    "for subset in subsets:\n",
    "    yi = GenerationUtils.sample_total_order(h, subset)\n",
    "    total_orders.append(yi)\n",
    "\n",
    "PO_plot.visualize_total_orders(total_orders, top_print=15, top_plot=10)"
   ]
  },
  {
   "cell_type": "markdown",
   "metadata": {},
   "source": [
    "## b) MCMC Simulation \n",
    "\n",
    "We want to performa the MCMC simulation to infer the h \n",
    "- h is caclualted from taking the mean of the h_trace\n",
    "- we also curious abou the distribution for the h_trace \n",
    "- We will check the simulated h and the defined-h and they should be the same "
   ]
  },
  {
   "cell_type": "code",
   "execution_count": null,
   "metadata": {},
   "outputs": [],
   "source": [
    "# Perform MCMC\n",
    "num_iterations= 10000  #Number of MCMC iterations\n",
    "rho = 0.8 # correlation between different covariates \n",
    "Sigma=2   # Step size for Z\n",
    "K = 4  # Dimensionality of Z\n",
    "mcmc_results = mcmc_partial_order(\n",
    "    observed_orders=total_orders,\n",
    "    choice_sets=subsets,\n",
    "    num_iterations=num_iterations,\n",
    "    Sigma=Sigma,\n",
    "    K=K,\n",
    "    rho=rho\n",
    ")\n",
    "h_final=np.mean(mcmc_results['h_trace'],axis=0)\n",
    "\n",
    "threshold=0.5\n",
    "index_to_item = mcmc_results['index_to_item']\n",
    "iterations = list(range(1, num_iterations + 1))\n",
    "\n",
    "h_final_inferred=(h_final>=threshold).astype(int)\n"
   ]
  },
  {
   "cell_type": "markdown",
   "metadata": {},
   "source": [
    "### Visulise for the h_trace and Z_Trace from the MCMC "
   ]
  },
  {
   "cell_type": "code",
   "execution_count": null,
   "metadata": {},
   "outputs": [],
   "source": [
    "# Example usage\n",
    "sorted_unique_orders = StatisticalUtils.count_unique_partial_orders(mcmc_results['h_trace'])\n",
    "\n",
    "# Print the sorted partial orders with their counts\n",
    "for idx, (order, count) in enumerate(sorted_unique_orders, 1):\n",
    "    print(f\"Partial Order {idx}:\\n{order}\\nCount: {count}\\n\")\n",
    "\n",
    "total_samples = sum(count for _, count in sorted_unique_orders)\n",
    "print(f\"Total number of samples in h_trace: {total_samples}\\n\")\n",
    "top_n = 5\n",
    "top_partial_orders = sorted_unique_orders[:top_n]\n",
    "top_percentages = [(order, count, (count / total_samples) * 100) for order, count in top_partial_orders]\n",
    "\n",
    "items = sorted(set(itertools.chain.from_iterable(total_orders)))\n",
    "n = len(items)\n",
    "item_labels = items  # ['A', 'B', 'C']\n",
    "# Plot the top 5 partial orders\n",
    "PO_plot.plot_top_partial_orders(top_percentages, top_n=top_n, item_labels=item_labels)\n",
    "\n",
    "PO_plot.plot_Z_trace(mcmc_results['samples_Z'],index_to_item)\n",
    "print(h_final_inferred)"
   ]
  },
  {
   "cell_type": "markdown",
   "metadata": {},
   "source": [
    "We see that the likelihood plot is converging after about 2000 iterations."
   ]
  },
  {
   "cell_type": "code",
   "execution_count": null,
   "metadata": {},
   "outputs": [],
   "source": [
    "\n",
    "PO_plot.plot_log_likelihood(mcmc_results, title='Log Likelihood Over MCMC Iterations')\n",
    "PO_plot.plot_acceptance_rate(mcmc_results['acceptance_rates'], num_iterations)"
   ]
  },
  {
   "cell_type": "markdown",
   "metadata": {},
   "source": [
    "### Inferred h comparison \n",
    "In the end, we want to compare the simulated h and the true h, especially the missing relationship between items."
   ]
  },
  {
   "cell_type": "code",
   "execution_count": null,
   "metadata": {},
   "outputs": [],
   "source": [
    "\n",
    "def compute_missing_relationships(h_true: np.ndarray, h_final: np.ndarray, index_to_item: Dict[int, int]) -> List[tuple]:\n",
    "    \"\"\"\n",
    "    Compute the missing relationships between the true partial order and the inferred partial order.\n",
    "    \n",
    "    Parameters:\n",
    "    - h_true (np.ndarray): Adjacency matrix of the true partial order.\n",
    "    - h_final (np.ndarray): Adjacency matrix of the inferred partial order.\n",
    "    - index_to_item (Dict[int, int]): Mapping from index to item.\n",
    "    \n",
    "    Returns:\n",
    "    - List[tuple]: List of tuples representing the missing relationships (i, j).\n",
    "    \"\"\"\n",
    "    missing = []\n",
    "    n = h_true.shape[0]\n",
    "    for i in range(n):\n",
    "        for j in range(n):\n",
    "            if h_true[i, j] == 1 and h_final[i, j] == 0:\n",
    "                missing.append( (index_to_item[i], index_to_item[j]) )\n",
    "    return missing\n",
    "\n",
    "\n",
    "# Plot Inferred Partial Order\n",
    "PO_plot.visualize_partial_order(\n",
    "    final_h=h_final,\n",
    "    title='Inferred Partial Order',\n",
    ")\n",
    "\n",
    "# Plot True Partial Order and Inferred Partial Order\n",
    "PO_plot.visualize_partial_order(\n",
    "    final_h=h_true,\n",
    "    title='True Partial Order',\n",
    ")\n",
    "\n",
    "\n",
    "missing_relationships = compute_missing_relationships(h_true, h_final, index_to_item)\n",
    "\n",
    "if missing_relationships:\n",
    "    print(\"\\nMissing Relationships (edges present in true PO but absent in inferred PO):\")\n",
    "    for i, j in missing_relationships:\n",
    "        print(f\"{i} < {j}\")\n",
    "else:\n",
    "    print(\"\\nNo missing relationships. The inferred partial order matches the true partial order.\")\n"
   ]
  },
  {
   "cell_type": "markdown",
   "metadata": {},
   "source": [
    "\n"
   ]
  }
 ],
 "metadata": {
  "kernelspec": {
   "display_name": "bayesian-partial-orders",
   "language": "python",
   "name": "python3"
  },
  "language_info": {
   "codemirror_mode": {
    "name": "ipython",
    "version": 3
   },
   "file_extension": ".py",
   "mimetype": "text/x-python",
   "name": "python",
   "nbconvert_exporter": "python",
   "pygments_lexer": "ipython3",
   "version": "3.9.20"
  }
 },
 "nbformat": 4,
 "nbformat_minor": 2
}
